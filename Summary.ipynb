{
 "cells": [
  {
   "cell_type": "markdown",
   "id": "8b5ae077",
   "metadata": {},
   "source": [
    "# Summary\n",
    "\n",
    "1. [Certified Exploit Development Professional (CEDP)](Certified%20Exploit%20Development%20Professional/CEDP%20-%20Notes.ipynb)\n",
    "2. [Mandarin](Mandarin/About.ipynb)"
   ]
  }
 ],
 "metadata": {
  "kernelspec": {
   "display_name": "Python 3 (ipykernel)",
   "language": "python",
   "name": "python3"
  },
  "language_info": {
   "codemirror_mode": {
    "name": "ipython",
    "version": 3
   },
   "file_extension": ".py",
   "mimetype": "text/x-python",
   "name": "python",
   "nbconvert_exporter": "python",
   "pygments_lexer": "ipython3",
   "version": "3.13.7"
  }
 },
 "nbformat": 4,
 "nbformat_minor": 5
}
